{
  "nbformat": 4,
  "nbformat_minor": 0,
  "metadata": {
    "colab": {
      "name": "fashion_cnn_tpu.ipynb",
      "version": "0.3.2",
      "provenance": [],
      "collapsed_sections": [],
      "toc_visible": true,
      "include_colab_link": true
    },
    "kernelspec": {
      "name": "python3",
      "display_name": "Python 3"
    },
    "accelerator": "TPU"
  },
  "cells": [
    {
      "cell_type": "markdown",
      "metadata": {
        "id": "view-in-github",
        "colab_type": "text"
      },
      "source": [
        "<a href=\"https://colab.research.google.com/github/motkeg/Msc-Project/blob/master/fashion_cnn_tpu.ipynb\" target=\"_parent\"><img src=\"https://colab.research.google.com/assets/colab-badge.svg\" alt=\"Open In Colab\"/></a>"
      ]
    },
    {
      "metadata": {
        "id": "GUn1EzNF51Kd",
        "colab_type": "text"
      },
      "cell_type": "markdown",
      "source": [
        "# Fasion_MNIST  CNN model training on google TPU\n",
        "\n",
        "---\n",
        "first we import all the stuff of tensorflow etc\n"
      ]
    },
    {
      "metadata": {
        "id": "GC2NlpxL6gjc",
        "colab_type": "code",
        "colab": {}
      },
      "cell_type": "code",
      "source": [
        "\"\"\"\n",
        "this is an model that only use to detact fashion_mnist images\n",
        "using tensorflow and keras\n",
        "\"\"\"\n",
        "\n",
        "import tensorflow as tf\n",
        " \n",
        "from tensorflow.keras.layers import (MaxPool2D , Conv2D , Activation,\n",
        "                                     Dropout , Flatten , \n",
        "                                     Dense , BatchNormalization)\n",
        "from tensorflow.keras.models import Sequential\n",
        "from tensorflow.keras.datasets import fashion_mnist \n",
        "from tensorflow.keras.callbacks import TensorBoard , ModelCheckpoint\n",
        "import os\n",
        "\n",
        "\n",
        "#flags = tf.app.flags\n",
        "#FLAGS = flags.FLAGS\n",
        "\n",
        "USE_TPU = True #@param [\"False\", \"True\"] {type:\"raw\"}\n",
        "LOG_DIR = \"./output/\"\n",
        "\n",
        "if not os.path.exists(LOG_DIR+\"/logs\"):\n",
        "    os.makedirs(LOG_DIR+\"/logs\")"
      ],
      "execution_count": 0,
      "outputs": []
    },
    {
      "metadata": {
        "id": "pGxrclHD6hsr",
        "colab_type": "text"
      },
      "cell_type": "markdown",
      "source": [
        "## Define the class of ouer model"
      ]
    },
    {
      "metadata": {
        "id": "yYlftdKo6jjA",
        "colab_type": "code",
        "colab": {}
      },
      "cell_type": "code",
      "source": [
        "\n",
        "\n",
        "class cnn_fashion():\n",
        "\n",
        "    # define tyhe train test and eval data\n",
        "   \n",
        "\n",
        "    def __init__(self):\n",
        "        (self.x_train, self.y_train) ,(self.x_test, self.y_test)  = fashion_mnist.load_data()\n",
        "        (self.x_valid,self.y_valid) = None, None\n",
        "        self.model = Sequential()\n",
        "        self.model_build()\n",
        "        self.model.summary()\n",
        "        # can't run tensorboard callback on TPU \n",
        "        self.tensorboard = TensorBoard(log_dir=LOG_DIR + \"logs\",\n",
        "                          batch_size=128,\n",
        "                            write_graph=True,\n",
        "                            histogram_freq=3,\n",
        "                            write_images=True,\n",
        "                            write_grads=True)\n",
        "\n",
        "        self.checkpointer = ModelCheckpoint(filepath=LOG_DIR + '/fashion-cnn-weights.best.hdf5', verbose = 1)   \n",
        "        \n",
        "                    \n",
        "        print(\"x_train shape:\", self.x_train.shape, \"y_train shape:\", self.y_train.shape)\n",
        "\n",
        "    def __call__(self,train=True,predict=None):\n",
        "        if train:\n",
        "            self.prepare_data()\n",
        "            self.Train()\n",
        "        else :\n",
        "            if predict is not None:\n",
        "                self.Predict(predict)\n",
        "\n",
        "\n",
        "\n",
        "\n",
        "    def prepare_data(self):\n",
        "        # data Normalization\n",
        "        self.x_train = self.x_train.astype('float32') / 255\n",
        "        self.x_test = self.x_test.astype('float32') / 255\n",
        "        # create a validation set fron the train data\n",
        "        val_size  = int(len(self.x_train)*0.1)\n",
        "        (self.x_valid,self.y_valid) = self.x_train[:val_size] , self.y_train[:val_size]\n",
        "        #(self.x_tarin,self.y_train) = self.x_train[val_size:] , self.y_train[val_size:]\n",
        "\n",
        "        # reshape the data to fit the model\n",
        "        self.x_train = self.x_train.reshape(self.x_train.shape[0], 28, 28, 1)\n",
        "        self.x_valid = self.x_valid.reshape(self.x_valid.shape[0], 28, 28, 1)\n",
        "        self.x_test = self.x_test.reshape(self.x_test.shape[0], 28, 28, 1)\n",
        "\n",
        "        # One-hot encode the labels\n",
        "        self.y_train = tf.keras.utils.to_categorical(self.y_train, 10)\n",
        "        self.y_valid = tf.keras.utils.to_categorical(self.y_valid, 10)\n",
        "        self.y_test = tf.keras.utils.to_categorical(self.y_test, 10)\n",
        "\n",
        "\n",
        "    def model_build(self):\n",
        "\n",
        "        #-------------------------------\n",
        "        # define the model and layers\n",
        "        #------------------------------\n",
        "        \n",
        "        self.model.add(BatchNormalization(input_shape=(28,28,1)))\n",
        "        self.model.add(Conv2D(64, (5, 5), padding='same', activation='relu'))\n",
        "        self.model.add(MaxPool2D(pool_size=(2, 2), strides=(2,2)))\n",
        "        self.model.add(Dropout(0.25))\n",
        "\n",
        "        self.model.add(BatchNormalization(input_shape=(28,28,1)))\n",
        "        self.model.add(Conv2D(128, (5, 5), padding='same', activation='relu'))\n",
        "        self.model.add(MaxPool2D(pool_size=(2, 2)))\n",
        "        self.model.add(Dropout(0.25))\n",
        "\n",
        "        self.model.add(BatchNormalization(input_shape=(28,28,1)))\n",
        "        self.model.add(Conv2D(256, (5, 5), padding='same', activation='relu'))\n",
        "        self.model.add(MaxPool2D(pool_size=(2, 2), strides=(2,2)))\n",
        "        self.model.add(Dropout(0.25))\n",
        "\n",
        "        self.model.add(Flatten())\n",
        "        self.model.add(Dense(256))\n",
        "        self.model.add(Activation('relu'))\n",
        "        self.model.add(Dropout(0.5))\n",
        "        self.model.add(Dense(10))\n",
        "        self.model.add(Activation('softmax'))\n",
        "\n",
        "        if USE_TPU:\n",
        "           \n",
        "            strategy = tf.contrib.tpu.TPUDistributionStrategy(\n",
        "                        tf.contrib.cluster_resolver.TPUClusterResolver(tpu='grpc://' + os.environ['COLAB_TPU_ADDR']))\n",
        "            self.model = tf.contrib.tpu.keras_to_tpu_model(self.model, strategy=strategy)\n",
        "\n",
        "        #-------------------------------\n",
        "        # compile the model \n",
        "        #-----------------------------\n",
        "        self.model.compile(loss='categorical_crossentropy',\n",
        "                    optimizer='adam',\n",
        "                    metrics=['accuracy'])\n",
        "\n",
        "\n",
        "    def Train(self):\n",
        "        #-------------------------------\n",
        "        # fit (train) the model \n",
        "        #-----------------------------\n",
        "        self.model.fit(self.x_train, self.y_train,\n",
        "                    batch_size=128,\n",
        "                    epochs=50,\n",
        "                    validation_data=(self.x_test,self.y_test),\n",
        "                    callbacks=[self.checkpointer],\n",
        "                    shuffle=True)\n",
        "\n",
        "        # Evaluate the model on test set\n",
        "        score = self.model.evaluate(self.x_test, self.y_test, verbose=0)\n",
        "        # Print test accuracy\n",
        "        print('\\n', 'Test accuracy:', score[1])  \n",
        "\n",
        "    def Predict(self,predict):\n",
        "        pass\n",
        "        #TODO: complate this phase     \n",
        "        \n",
        "        \n",
        "        \n"
      ],
      "execution_count": 0,
      "outputs": []
    },
    {
      "metadata": {
        "id": "pFvcPGsh7Ip7",
        "colab_type": "text"
      },
      "cell_type": "markdown",
      "source": [
        "# Run the train phase"
      ]
    },
    {
      "metadata": {
        "id": "JZ-cFN2X7Op7",
        "colab_type": "code",
        "colab": {}
      },
      "cell_type": "code",
      "source": [
        "model =  cnn_fashion()\n",
        "model()"
      ],
      "execution_count": 0,
      "outputs": []
    },
    {
      "metadata": {
        "id": "PyamVRztEvwI",
        "colab_type": "text"
      },
      "cell_type": "markdown",
      "source": [
        "# check the results (make a prediction based on our saved weights)\n",
        "\n",
        "you can run this as a single cell witout run all the notebook before.  \n",
        "***validate that you have the \"fashion-cnn-weights.best.hdf5\" file ***"
      ]
    },
    {
      "metadata": {
        "id": "xldMWWRCEuI1",
        "colab_type": "code",
        "colab": {
          "base_uri": "https://localhost:8080/",
          "height": 507
        },
        "outputId": "19b00922-f376-4478-aab6-d858f105577e"
      },
      "cell_type": "code",
      "source": [
        "from tensorflow.keras.models import load_model\n",
        "import numpy as np\n",
        "import matplotlib.pyplot as plt \n",
        "\n",
        "(x_train, y_train) ,(x_test, y_test)  = fashion_mnist.load_data()\n",
        "x_test = x_test.reshape(x_test.shape[0], 28, 28, 1)\n",
        "LABEL_NAMES = ['t_shirt', 'trouser', 'pullover', 'dress', 'coat', 'sandal', 'shirt', 'sneaker', 'bag', 'ankle_boots']\n",
        "\n",
        "def plot_predictions(images, predictions):\n",
        "  n = images.shape[0]\n",
        "  nc = int(np.ceil(n / 4))\n",
        "  f, axes = plt.subplots(nc, 4)\n",
        "  for i in range(nc * 4):\n",
        "    y = i // 4\n",
        "    x = i % 4\n",
        "    axes[x, y].axis('off')\n",
        "    \n",
        "    label = LABEL_NAMES[np.argmax(predictions[i])]\n",
        "    confidence = np.max(predictions[i])\n",
        "    if i > n:\n",
        "      continue\n",
        "    axes[x, y].imshow(images[i])\n",
        "    axes[x, y].text(0.5, 0.5, label + '\\n%.3f' % confidence, fontsize=14)\n",
        "\n",
        "  plt.gcf().set_size_inches(8, 8)  \n",
        "  \n",
        "  \n",
        "  \n",
        "# you can run this as a single cell\n",
        "\n",
        "new_model = load_model(\"./output/fashion-cnn-weights.best.hdf5\")\n",
        "plot_predictions(np.squeeze(x_test[16:32]), \n",
        "                 new_model.predict(x_test[16:32]))\n",
        "\n"
      ],
      "execution_count": 11,
      "outputs": [
        {
          "output_type": "display_data",
          "data": {
            "image/png": "[encoded data removed]",
            "text/plain": [
              "<matplotlib.figure.Figure at 0x7f0149558898>"
            ]
          },
          "metadata": {
            "tags": []
          }
        }
      ]
    }
  ]
}